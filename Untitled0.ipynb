{
  "nbformat": 4,
  "nbformat_minor": 0,
  "metadata": {
    "colab": {
      "name": "Untitled0.ipynb",
      "provenance": [],
      "collapsed_sections": [],
      "include_colab_link": true
    },
    "kernelspec": {
      "name": "python3",
      "display_name": "Python 3"
    }
  },
  "cells": [
    {
      "cell_type": "markdown",
      "metadata": {
        "id": "view-in-github",
        "colab_type": "text"
      },
      "source": [
        "<a href=\"https://colab.research.google.com/github/chanchanchann/DW/blob/master/Untitled0.ipynb\" target=\"_parent\"><img src=\"https://colab.research.google.com/assets/colab-badge.svg\" alt=\"Open In Colab\"/></a>"
      ]
    },
    {
      "cell_type": "markdown",
      "metadata": {
        "id": "1BvA9rEoiWcz",
        "colab_type": "text"
      },
      "source": [
        "# Hello PyThon\n",
        "## Hello PyThom\n",
        "### Hello PyThon\n",
        "this is my first Python Program\n",
        "\n"
      ]
    },
    {
      "cell_type": "code",
      "metadata": {
        "id": "V1ihhKeXh1rx",
        "colab_type": "code",
        "outputId": "0da8ab68-b222-41f5-bc68-8610eea4ce39",
        "colab": {
          "base_uri": "https://localhost:8080/",
          "height": 34
        }
      },
      "source": [
        "print(\"Hello World\")"
      ],
      "execution_count": 0,
      "outputs": [
        {
          "output_type": "stream",
          "text": [
            "Hello World\n"
          ],
          "name": "stdout"
        }
      ]
    },
    {
      "cell_type": "markdown",
      "metadata": {
        "id": "Zmol2vnKjM55",
        "colab_type": "text"
      },
      "source": [
        "# Declare Variable in PyThon\n",
        "How to declare variable in PyThon"
      ]
    },
    {
      "cell_type": "code",
      "metadata": {
        "id": "tLVoiSymi9oA",
        "colab_type": "code",
        "outputId": "419fc593-ae3f-4658-8677-3a18178ee1a5",
        "colab": {
          "base_uri": "https://localhost:8080/",
          "height": 34
        }
      },
      "source": [
        "score = 100\n",
        "name = \"Chan\"\n",
        "print(\"My name is \" + name + \" score is \" + str(score) ) "
      ],
      "execution_count": 0,
      "outputs": [
        {
          "output_type": "stream",
          "text": [
            "My name is Chan score is 100\n"
          ],
          "name": "stdout"
        }
      ]
    },
    {
      "cell_type": "markdown",
      "metadata": {
        "id": "DEkcCZ_UnJPT",
        "colab_type": "text"
      },
      "source": [
        "#List\n",
        "how to use list"
      ]
    },
    {
      "cell_type": "code",
      "metadata": {
        "id": "yOnHu1XbnMzP",
        "colab_type": "code",
        "outputId": "7040c2b9-9490-45a5-d4ab-01b59b1f5b59",
        "colab": {
          "base_uri": "https://localhost:8080/",
          "height": 34
        }
      },
      "source": [
        "mylist = []\n",
        "mylist.append(\"chan\")\n",
        "mylist.append(200)\n",
        "mylist"
      ],
      "execution_count": 0,
      "outputs": [
        {
          "output_type": "execute_result",
          "data": {
            "text/plain": [
              "['chan', 200]"
            ]
          },
          "metadata": {
            "tags": []
          },
          "execution_count": 22
        }
      ]
    },
    {
      "cell_type": "code",
      "metadata": {
        "id": "2-XW7YF2nbeX",
        "colab_type": "code",
        "outputId": "cf5a55a2-9254-42aa-ac74-cfbf21d24f20",
        "colab": {
          "base_uri": "https://localhost:8080/",
          "height": 34
        }
      },
      "source": [
        "len(mylist)"
      ],
      "execution_count": 0,
      "outputs": [
        {
          "output_type": "execute_result",
          "data": {
            "text/plain": [
              "2"
            ]
          },
          "metadata": {
            "tags": []
          },
          "execution_count": 17
        }
      ]
    },
    {
      "cell_type": "markdown",
      "metadata": {
        "id": "7a8-pQlMnwRI",
        "colab_type": "text"
      },
      "source": [
        "#If Else in PyThon"
      ]
    },
    {
      "cell_type": "code",
      "metadata": {
        "id": "XYeLmKWbncXn",
        "colab_type": "code",
        "outputId": "bc37f68e-578b-42a3-bd86-4ca564e4d597",
        "colab": {
          "base_uri": "https://localhost:8080/",
          "height": 51
        }
      },
      "source": [
        "if mylist[1] > 100 :\n",
        "  name = mylist[0]\n",
        "  score = mylist[1]\n",
        "  print(name + \" \" + str(score))\n",
        "  if len(mylist) != 0 :\n",
        "    print(\"Yo bro\")\n"
      ],
      "execution_count": 0,
      "outputs": [
        {
          "output_type": "stream",
          "text": [
            "chan 200\n",
            "Yo bro\n"
          ],
          "name": "stdout"
        }
      ]
    },
    {
      "cell_type": "markdown",
      "metadata": {
        "id": "t-PM7S2bqP8h",
        "colab_type": "text"
      },
      "source": [
        "#For Loop"
      ]
    },
    {
      "cell_type": "code",
      "metadata": {
        "id": "292EtF8oqSeu",
        "colab_type": "code",
        "outputId": "2edc4e40-b43d-407c-8fe0-fa6aea8ff852",
        "colab": {
          "base_uri": "https://localhost:8080/",
          "height": 51
        }
      },
      "source": [
        "for x in mylist :\n",
        "  print(x)"
      ],
      "execution_count": 0,
      "outputs": [
        {
          "output_type": "stream",
          "text": [
            "chan\n",
            "200\n"
          ],
          "name": "stdout"
        }
      ]
    },
    {
      "cell_type": "code",
      "metadata": {
        "id": "eBGDA1OTrSw-",
        "colab_type": "code",
        "outputId": "602ac45d-bca9-468a-9285-12eb62b110fb",
        "colab": {
          "base_uri": "https://localhost:8080/",
          "height": 187
        }
      },
      "source": [
        "num = []\n",
        "for x in range (0,10) :\n",
        "  num.append(x)\n",
        "  print(num[x])\n",
        "  \n",
        "  "
      ],
      "execution_count": 0,
      "outputs": [
        {
          "output_type": "stream",
          "text": [
            "0\n",
            "1\n",
            "2\n",
            "3\n",
            "4\n",
            "5\n",
            "6\n",
            "7\n",
            "8\n",
            "9\n"
          ],
          "name": "stdout"
        }
      ]
    },
    {
      "cell_type": "markdown",
      "metadata": {
        "id": "Mkqtjyp5vpII",
        "colab_type": "text"
      },
      "source": [
        "#Numpy"
      ]
    },
    {
      "cell_type": "code",
      "metadata": {
        "id": "6slebPGpvryT",
        "colab_type": "code",
        "colab": {}
      },
      "source": [
        "import numpy as np"
      ],
      "execution_count": 0,
      "outputs": []
    },
    {
      "cell_type": "markdown",
      "metadata": {
        "id": "Z53F4ogy4DBs",
        "colab_type": "text"
      },
      "source": [
        "##Ex1"
      ]
    },
    {
      "cell_type": "code",
      "metadata": {
        "id": "1xd2D6RzvvUC",
        "colab_type": "code",
        "outputId": "fee65168-b622-42af-e670-89375692bd40",
        "colab": {
          "base_uri": "https://localhost:8080/",
          "height": 187
        }
      },
      "source": [
        "np_matrix = np.random.rand(10,5)\n",
        "np_matrix[:,4] = np.random.randint(2,size=10)\n",
        "np_matrix"
      ],
      "execution_count": 78,
      "outputs": [
        {
          "output_type": "execute_result",
          "data": {
            "text/plain": [
              "array([[0.78836548, 0.38633821, 0.77620548, 0.09950199, 1.        ],\n",
              "       [0.39171543, 0.61064975, 0.05561593, 0.68250323, 1.        ],\n",
              "       [0.77217883, 0.81011729, 0.02887186, 0.4522819 , 1.        ],\n",
              "       [0.56045734, 0.78046488, 0.0673045 , 0.42253418, 1.        ],\n",
              "       [0.02557696, 0.84989608, 0.88579331, 0.13928118, 1.        ],\n",
              "       [0.3167373 , 0.64738743, 0.80637497, 0.03103615, 1.        ],\n",
              "       [0.77733782, 0.59001557, 0.69362921, 0.23042909, 1.        ],\n",
              "       [0.01142978, 0.58730109, 0.59973902, 0.28695442, 0.        ],\n",
              "       [0.54252764, 0.29863125, 0.59151597, 0.72856811, 1.        ],\n",
              "       [0.45887727, 0.31879003, 0.43072378, 0.77813493, 0.        ]])"
            ]
          },
          "metadata": {
            "tags": []
          },
          "execution_count": 78
        }
      ]
    },
    {
      "cell_type": "markdown",
      "metadata": {
        "id": "Ibdx1IJK4ZcI",
        "colab_type": "text"
      },
      "source": [
        "##Ex2"
      ]
    },
    {
      "cell_type": "code",
      "metadata": {
        "id": "iEjZ9y_S4b9a",
        "colab_type": "code",
        "colab": {
          "base_uri": "https://localhost:8080/",
          "height": 187
        },
        "outputId": "29c38a8f-ab50-406a-e585-dbb50fb6efbe"
      },
      "source": [
        "np_matrix2 = np.random.rand(10,5)\n",
        "np_matrix2\n"
      ],
      "execution_count": 88,
      "outputs": [
        {
          "output_type": "execute_result",
          "data": {
            "text/plain": [
              "array([[0.79757499, 0.48494897, 0.13159101, 0.66078269, 0.18332524],\n",
              "       [0.94232679, 0.16701243, 0.19453363, 0.1535667 , 0.17331836],\n",
              "       [0.77773072, 0.24597008, 0.24710327, 0.78111935, 0.23112531],\n",
              "       [0.00619141, 0.61407572, 0.26495364, 0.60198396, 0.11845611],\n",
              "       [0.79777631, 0.48150305, 0.55776254, 0.17330531, 0.19229313],\n",
              "       [0.86980229, 0.10335321, 0.61072005, 0.23273086, 0.95977998],\n",
              "       [0.76755079, 0.01740944, 0.0010468 , 0.54705087, 0.03576193],\n",
              "       [0.0848485 , 0.10482447, 0.91638225, 0.87121739, 0.69934485],\n",
              "       [0.30372614, 0.82768404, 0.72943393, 0.87625518, 0.59890042],\n",
              "       [0.65730714, 0.2101633 , 0.91963197, 0.67393366, 0.23520871]])"
            ]
          },
          "metadata": {
            "tags": []
          },
          "execution_count": 88
        }
      ]
    },
    {
      "cell_type": "code",
      "metadata": {
        "id": "wrBNaRKP69Rb",
        "colab_type": "code",
        "colab": {
          "base_uri": "https://localhost:8080/",
          "height": 34
        },
        "outputId": "a0ac08c5-954e-4db2-af32-dde80e11cde2"
      },
      "source": [
        "np_vector = np.random.randint(3,size=10)\n",
        "np_vector\n"
      ],
      "execution_count": 97,
      "outputs": [
        {
          "output_type": "execute_result",
          "data": {
            "text/plain": [
              "array([0, 1, 1, 2, 2, 2, 2, 1, 0, 1])"
            ]
          },
          "metadata": {
            "tags": []
          },
          "execution_count": 97
        }
      ]
    },
    {
      "cell_type": "code",
      "metadata": {
        "id": "OemxuhFJ7EzZ",
        "colab_type": "code",
        "colab": {
          "base_uri": "https://localhost:8080/",
          "height": 34
        },
        "outputId": "e793a09f-6107-4234-d866-9dd0b357edb2"
      },
      "source": [
        "result = np.where(np_vector == 2)\n",
        "result"
      ],
      "execution_count": 98,
      "outputs": [
        {
          "output_type": "execute_result",
          "data": {
            "text/plain": [
              "(array([3, 4, 5, 6]),)"
            ]
          },
          "metadata": {
            "tags": []
          },
          "execution_count": 98
        }
      ]
    },
    {
      "cell_type": "code",
      "metadata": {
        "id": "goIDRLFE6-7C",
        "colab_type": "code",
        "colab": {
          "base_uri": "https://localhost:8080/",
          "height": 85
        },
        "outputId": "77d65d37-bf76-4b2f-bc88-b10a6653a956"
      },
      "source": [
        "np_matrix2[result,:]"
      ],
      "execution_count": 99,
      "outputs": [
        {
          "output_type": "execute_result",
          "data": {
            "text/plain": [
              "array([[[0.00619141, 0.61407572, 0.26495364, 0.60198396, 0.11845611],\n",
              "        [0.79777631, 0.48150305, 0.55776254, 0.17330531, 0.19229313],\n",
              "        [0.86980229, 0.10335321, 0.61072005, 0.23273086, 0.95977998],\n",
              "        [0.76755079, 0.01740944, 0.0010468 , 0.54705087, 0.03576193]]])"
            ]
          },
          "metadata": {
            "tags": []
          },
          "execution_count": 99
        }
      ]
    }
  ]
}