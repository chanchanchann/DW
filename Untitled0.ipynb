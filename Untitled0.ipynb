{
  "nbformat": 4,
  "nbformat_minor": 0,
  "metadata": {
    "colab": {
      "name": "Untitled0.ipynb",
      "provenance": [],
      "collapsed_sections": [],
      "include_colab_link": true
    },
    "kernelspec": {
      "name": "python3",
      "display_name": "Python 3"
    }
  },
  "cells": [
    {
      "cell_type": "markdown",
      "metadata": {
        "id": "view-in-github",
        "colab_type": "text"
      },
      "source": [
        "<a href=\"https://colab.research.google.com/github/chanchanchann/DW/blob/master/Untitled0.ipynb\" target=\"_parent\"><img src=\"https://colab.research.google.com/assets/colab-badge.svg\" alt=\"Open In Colab\"/></a>"
      ]
    },
    {
      "cell_type": "markdown",
      "metadata": {
        "id": "1BvA9rEoiWcz",
        "colab_type": "text"
      },
      "source": [
        "# Hello PyThon\n",
        "## Hello PyThom\n",
        "### Hello PyThon\n",
        "this is my first Python Program\n",
        "\n"
      ]
    },
    {
      "cell_type": "code",
      "metadata": {
        "id": "V1ihhKeXh1rx",
        "colab_type": "code",
        "outputId": "0da8ab68-b222-41f5-bc68-8610eea4ce39",
        "colab": {
          "base_uri": "https://localhost:8080/",
          "height": 34
        }
      },
      "source": [
        "print(\"Hello World\")"
      ],
      "execution_count": 0,
      "outputs": [
        {
          "output_type": "stream",
          "text": [
            "Hello World\n"
          ],
          "name": "stdout"
        }
      ]
    },
    {
      "cell_type": "markdown",
      "metadata": {
        "id": "Zmol2vnKjM55",
        "colab_type": "text"
      },
      "source": [
        "# Declare Variable in PyThon\n",
        "How to declare variable in PyThon"
      ]
    },
    {
      "cell_type": "code",
      "metadata": {
        "id": "tLVoiSymi9oA",
        "colab_type": "code",
        "outputId": "419fc593-ae3f-4658-8677-3a18178ee1a5",
        "colab": {
          "base_uri": "https://localhost:8080/",
          "height": 34
        }
      },
      "source": [
        "score = 100\n",
        "name = \"Chan\"\n",
        "print(\"My name is \" + name + \" score is \" + str(score) ) "
      ],
      "execution_count": 0,
      "outputs": [
        {
          "output_type": "stream",
          "text": [
            "My name is Chan score is 100\n"
          ],
          "name": "stdout"
        }
      ]
    },
    {
      "cell_type": "markdown",
      "metadata": {
        "id": "DEkcCZ_UnJPT",
        "colab_type": "text"
      },
      "source": [
        "#List\n",
        "how to use list"
      ]
    },
    {
      "cell_type": "code",
      "metadata": {
        "id": "yOnHu1XbnMzP",
        "colab_type": "code",
        "colab": {
          "base_uri": "https://localhost:8080/",
          "height": 34
        },
        "outputId": "7040c2b9-9490-45a5-d4ab-01b59b1f5b59"
      },
      "source": [
        "mylist = []\n",
        "mylist.append(\"chan\")\n",
        "mylist.append(200)\n",
        "mylist"
      ],
      "execution_count": 22,
      "outputs": [
        {
          "output_type": "execute_result",
          "data": {
            "text/plain": [
              "['chan', 200]"
            ]
          },
          "metadata": {
            "tags": []
          },
          "execution_count": 22
        }
      ]
    },
    {
      "cell_type": "code",
      "metadata": {
        "id": "2-XW7YF2nbeX",
        "colab_type": "code",
        "colab": {
          "base_uri": "https://localhost:8080/",
          "height": 34
        },
        "outputId": "cf5a55a2-9254-42aa-ac74-cfbf21d24f20"
      },
      "source": [
        "len(mylist)"
      ],
      "execution_count": 17,
      "outputs": [
        {
          "output_type": "execute_result",
          "data": {
            "text/plain": [
              "2"
            ]
          },
          "metadata": {
            "tags": []
          },
          "execution_count": 17
        }
      ]
    },
    {
      "cell_type": "markdown",
      "metadata": {
        "id": "7a8-pQlMnwRI",
        "colab_type": "text"
      },
      "source": [
        "#If Else in PyThon"
      ]
    },
    {
      "cell_type": "code",
      "metadata": {
        "id": "XYeLmKWbncXn",
        "colab_type": "code",
        "colab": {
          "base_uri": "https://localhost:8080/",
          "height": 51
        },
        "outputId": "bc37f68e-578b-42a3-bd86-4ca564e4d597"
      },
      "source": [
        "if mylist[1] > 100 :\n",
        "  name = mylist[0]\n",
        "  score = mylist[1]\n",
        "  print(name + \" \" + str(score))\n",
        "  if len(mylist) != 0 :\n",
        "    print(\"Yo bro\")\n"
      ],
      "execution_count": 34,
      "outputs": [
        {
          "output_type": "stream",
          "text": [
            "chan 200\n",
            "Yo bro\n"
          ],
          "name": "stdout"
        }
      ]
    },
    {
      "cell_type": "markdown",
      "metadata": {
        "id": "t-PM7S2bqP8h",
        "colab_type": "text"
      },
      "source": [
        "#For Loop"
      ]
    },
    {
      "cell_type": "code",
      "metadata": {
        "id": "292EtF8oqSeu",
        "colab_type": "code",
        "colab": {
          "base_uri": "https://localhost:8080/",
          "height": 51
        },
        "outputId": "2edc4e40-b43d-407c-8fe0-fa6aea8ff852"
      },
      "source": [
        "for x in mylist :\n",
        "  print(x)"
      ],
      "execution_count": 36,
      "outputs": [
        {
          "output_type": "stream",
          "text": [
            "chan\n",
            "200\n"
          ],
          "name": "stdout"
        }
      ]
    },
    {
      "cell_type": "code",
      "metadata": {
        "id": "eBGDA1OTrSw-",
        "colab_type": "code",
        "colab": {
          "base_uri": "https://localhost:8080/",
          "height": 187
        },
        "outputId": "602ac45d-bca9-468a-9285-12eb62b110fb"
      },
      "source": [
        "num = []\n",
        "for x in range (0,10) :\n",
        "  num.append(x)\n",
        "  print(num[x])\n",
        "  \n",
        "  "
      ],
      "execution_count": 56,
      "outputs": [
        {
          "output_type": "stream",
          "text": [
            "0\n",
            "1\n",
            "2\n",
            "3\n",
            "4\n",
            "5\n",
            "6\n",
            "7\n",
            "8\n",
            "9\n"
          ],
          "name": "stdout"
        }
      ]
    }
  ]
}