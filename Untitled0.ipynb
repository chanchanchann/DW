{
  "nbformat": 4,
  "nbformat_minor": 0,
  "metadata": {
    "colab": {
      "name": "Untitled0.ipynb",
      "provenance": [],
      "collapsed_sections": [],
      "include_colab_link": true
    },
    "kernelspec": {
      "name": "python3",
      "display_name": "Python 3"
    }
  },
  "cells": [
    {
      "cell_type": "markdown",
      "metadata": {
        "id": "view-in-github",
        "colab_type": "text"
      },
      "source": [
        "<a href=\"https://colab.research.google.com/github/chanchanchann/DW/blob/master/Untitled0.ipynb\" target=\"_parent\"><img src=\"https://colab.research.google.com/assets/colab-badge.svg\" alt=\"Open In Colab\"/></a>"
      ]
    },
    {
      "cell_type": "markdown",
      "metadata": {
        "id": "1BvA9rEoiWcz",
        "colab_type": "text"
      },
      "source": [
        "# Hello PyThon\n",
        "## Hello PyThom\n",
        "### Hello PyThon\n",
        "this is my first Python Program\n",
        "\n"
      ]
    },
    {
      "cell_type": "code",
      "metadata": {
        "id": "V1ihhKeXh1rx",
        "colab_type": "code",
        "outputId": "0da8ab68-b222-41f5-bc68-8610eea4ce39",
        "colab": {
          "base_uri": "https://localhost:8080/",
          "height": 34
        }
      },
      "source": [
        "print(\"Hello World\")"
      ],
      "execution_count": 0,
      "outputs": [
        {
          "output_type": "stream",
          "text": [
            "Hello World\n"
          ],
          "name": "stdout"
        }
      ]
    },
    {
      "cell_type": "markdown",
      "metadata": {
        "id": "Zmol2vnKjM55",
        "colab_type": "text"
      },
      "source": [
        "# Declare Variable in PyThon\n",
        "How to declare variable in PyThon"
      ]
    },
    {
      "cell_type": "code",
      "metadata": {
        "id": "tLVoiSymi9oA",
        "colab_type": "code",
        "outputId": "419fc593-ae3f-4658-8677-3a18178ee1a5",
        "colab": {
          "base_uri": "https://localhost:8080/",
          "height": 34
        }
      },
      "source": [
        "score = 100\n",
        "name = \"Chan\"\n",
        "print(\"My name is \" + name + \" score is \" + str(score) ) "
      ],
      "execution_count": 0,
      "outputs": [
        {
          "output_type": "stream",
          "text": [
            "My name is Chan score is 100\n"
          ],
          "name": "stdout"
        }
      ]
    },
    {
      "cell_type": "markdown",
      "metadata": {
        "id": "DEkcCZ_UnJPT",
        "colab_type": "text"
      },
      "source": [
        "#List\n",
        "how to use list"
      ]
    },
    {
      "cell_type": "code",
      "metadata": {
        "id": "yOnHu1XbnMzP",
        "colab_type": "code",
        "outputId": "7040c2b9-9490-45a5-d4ab-01b59b1f5b59",
        "colab": {
          "base_uri": "https://localhost:8080/",
          "height": 34
        }
      },
      "source": [
        "mylist = []\n",
        "mylist.append(\"chan\")\n",
        "mylist.append(200)\n",
        "mylist"
      ],
      "execution_count": 0,
      "outputs": [
        {
          "output_type": "execute_result",
          "data": {
            "text/plain": [
              "['chan', 200]"
            ]
          },
          "metadata": {
            "tags": []
          },
          "execution_count": 22
        }
      ]
    },
    {
      "cell_type": "code",
      "metadata": {
        "id": "2-XW7YF2nbeX",
        "colab_type": "code",
        "outputId": "cf5a55a2-9254-42aa-ac74-cfbf21d24f20",
        "colab": {
          "base_uri": "https://localhost:8080/",
          "height": 34
        }
      },
      "source": [
        "len(mylist)"
      ],
      "execution_count": 0,
      "outputs": [
        {
          "output_type": "execute_result",
          "data": {
            "text/plain": [
              "2"
            ]
          },
          "metadata": {
            "tags": []
          },
          "execution_count": 17
        }
      ]
    },
    {
      "cell_type": "markdown",
      "metadata": {
        "id": "7a8-pQlMnwRI",
        "colab_type": "text"
      },
      "source": [
        "#If Else in PyThon"
      ]
    },
    {
      "cell_type": "code",
      "metadata": {
        "id": "XYeLmKWbncXn",
        "colab_type": "code",
        "outputId": "bc37f68e-578b-42a3-bd86-4ca564e4d597",
        "colab": {
          "base_uri": "https://localhost:8080/",
          "height": 51
        }
      },
      "source": [
        "if mylist[1] > 100 :\n",
        "  name = mylist[0]\n",
        "  score = mylist[1]\n",
        "  print(name + \" \" + str(score))\n",
        "  if len(mylist) != 0 :\n",
        "    print(\"Yo bro\")\n"
      ],
      "execution_count": 0,
      "outputs": [
        {
          "output_type": "stream",
          "text": [
            "chan 200\n",
            "Yo bro\n"
          ],
          "name": "stdout"
        }
      ]
    },
    {
      "cell_type": "markdown",
      "metadata": {
        "id": "t-PM7S2bqP8h",
        "colab_type": "text"
      },
      "source": [
        "#For Loop"
      ]
    },
    {
      "cell_type": "code",
      "metadata": {
        "id": "292EtF8oqSeu",
        "colab_type": "code",
        "outputId": "2edc4e40-b43d-407c-8fe0-fa6aea8ff852",
        "colab": {
          "base_uri": "https://localhost:8080/",
          "height": 51
        }
      },
      "source": [
        "for x in mylist :\n",
        "  print(x)"
      ],
      "execution_count": 0,
      "outputs": [
        {
          "output_type": "stream",
          "text": [
            "chan\n",
            "200\n"
          ],
          "name": "stdout"
        }
      ]
    },
    {
      "cell_type": "code",
      "metadata": {
        "id": "eBGDA1OTrSw-",
        "colab_type": "code",
        "outputId": "602ac45d-bca9-468a-9285-12eb62b110fb",
        "colab": {
          "base_uri": "https://localhost:8080/",
          "height": 187
        }
      },
      "source": [
        "num = []\n",
        "for x in range (0,10) :\n",
        "  num.append(x)\n",
        "  print(num[x])\n",
        "  \n",
        "  "
      ],
      "execution_count": 0,
      "outputs": [
        {
          "output_type": "stream",
          "text": [
            "0\n",
            "1\n",
            "2\n",
            "3\n",
            "4\n",
            "5\n",
            "6\n",
            "7\n",
            "8\n",
            "9\n"
          ],
          "name": "stdout"
        }
      ]
    },
    {
      "cell_type": "markdown",
      "metadata": {
        "id": "Mkqtjyp5vpII",
        "colab_type": "text"
      },
      "source": [
        "#Numpy"
      ]
    },
    {
      "cell_type": "code",
      "metadata": {
        "id": "6slebPGpvryT",
        "colab_type": "code",
        "colab": {}
      },
      "source": [
        "import numpy as np"
      ],
      "execution_count": 0,
      "outputs": []
    },
    {
      "cell_type": "markdown",
      "metadata": {
        "id": "Z53F4ogy4DBs",
        "colab_type": "text"
      },
      "source": [
        "##Ex1"
      ]
    },
    {
      "cell_type": "code",
      "metadata": {
        "id": "1xd2D6RzvvUC",
        "colab_type": "code",
        "outputId": "fee65168-b622-42af-e670-89375692bd40",
        "colab": {
          "base_uri": "https://localhost:8080/",
          "height": 187
        }
      },
      "source": [
        "np_matrix = np.random.rand(10,5)\n",
        "np_matrix[:,4] = np.random.randint(2,size=10)\n",
        "np_matrix"
      ],
      "execution_count": 0,
      "outputs": [
        {
          "output_type": "execute_result",
          "data": {
            "text/plain": [
              "array([[0.78836548, 0.38633821, 0.77620548, 0.09950199, 1.        ],\n",
              "       [0.39171543, 0.61064975, 0.05561593, 0.68250323, 1.        ],\n",
              "       [0.77217883, 0.81011729, 0.02887186, 0.4522819 , 1.        ],\n",
              "       [0.56045734, 0.78046488, 0.0673045 , 0.42253418, 1.        ],\n",
              "       [0.02557696, 0.84989608, 0.88579331, 0.13928118, 1.        ],\n",
              "       [0.3167373 , 0.64738743, 0.80637497, 0.03103615, 1.        ],\n",
              "       [0.77733782, 0.59001557, 0.69362921, 0.23042909, 1.        ],\n",
              "       [0.01142978, 0.58730109, 0.59973902, 0.28695442, 0.        ],\n",
              "       [0.54252764, 0.29863125, 0.59151597, 0.72856811, 1.        ],\n",
              "       [0.45887727, 0.31879003, 0.43072378, 0.77813493, 0.        ]])"
            ]
          },
          "metadata": {
            "tags": []
          },
          "execution_count": 78
        }
      ]
    },
    {
      "cell_type": "markdown",
      "metadata": {
        "id": "Ibdx1IJK4ZcI",
        "colab_type": "text"
      },
      "source": [
        "##Ex2"
      ]
    },
    {
      "cell_type": "code",
      "metadata": {
        "id": "iEjZ9y_S4b9a",
        "colab_type": "code",
        "outputId": "29c38a8f-ab50-406a-e585-dbb50fb6efbe",
        "colab": {
          "base_uri": "https://localhost:8080/",
          "height": 187
        }
      },
      "source": [
        "np_matrix2 = np.random.rand(10,5)\n",
        "np_matrix2\n"
      ],
      "execution_count": 0,
      "outputs": [
        {
          "output_type": "execute_result",
          "data": {
            "text/plain": [
              "array([[0.79757499, 0.48494897, 0.13159101, 0.66078269, 0.18332524],\n",
              "       [0.94232679, 0.16701243, 0.19453363, 0.1535667 , 0.17331836],\n",
              "       [0.77773072, 0.24597008, 0.24710327, 0.78111935, 0.23112531],\n",
              "       [0.00619141, 0.61407572, 0.26495364, 0.60198396, 0.11845611],\n",
              "       [0.79777631, 0.48150305, 0.55776254, 0.17330531, 0.19229313],\n",
              "       [0.86980229, 0.10335321, 0.61072005, 0.23273086, 0.95977998],\n",
              "       [0.76755079, 0.01740944, 0.0010468 , 0.54705087, 0.03576193],\n",
              "       [0.0848485 , 0.10482447, 0.91638225, 0.87121739, 0.69934485],\n",
              "       [0.30372614, 0.82768404, 0.72943393, 0.87625518, 0.59890042],\n",
              "       [0.65730714, 0.2101633 , 0.91963197, 0.67393366, 0.23520871]])"
            ]
          },
          "metadata": {
            "tags": []
          },
          "execution_count": 88
        }
      ]
    },
    {
      "cell_type": "code",
      "metadata": {
        "id": "wrBNaRKP69Rb",
        "colab_type": "code",
        "outputId": "a0ac08c5-954e-4db2-af32-dde80e11cde2",
        "colab": {
          "base_uri": "https://localhost:8080/",
          "height": 34
        }
      },
      "source": [
        "np_vector = np.random.randint(3,size=10)\n",
        "np_vector\n"
      ],
      "execution_count": 0,
      "outputs": [
        {
          "output_type": "execute_result",
          "data": {
            "text/plain": [
              "array([0, 1, 1, 2, 2, 2, 2, 1, 0, 1])"
            ]
          },
          "metadata": {
            "tags": []
          },
          "execution_count": 97
        }
      ]
    },
    {
      "cell_type": "code",
      "metadata": {
        "id": "OemxuhFJ7EzZ",
        "colab_type": "code",
        "outputId": "e793a09f-6107-4234-d866-9dd0b357edb2",
        "colab": {
          "base_uri": "https://localhost:8080/",
          "height": 34
        }
      },
      "source": [
        "result = np.where(np_vector == 2)\n",
        "result"
      ],
      "execution_count": 0,
      "outputs": [
        {
          "output_type": "execute_result",
          "data": {
            "text/plain": [
              "(array([3, 4, 5, 6]),)"
            ]
          },
          "metadata": {
            "tags": []
          },
          "execution_count": 98
        }
      ]
    },
    {
      "cell_type": "code",
      "metadata": {
        "id": "goIDRLFE6-7C",
        "colab_type": "code",
        "outputId": "77d65d37-bf76-4b2f-bc88-b10a6653a956",
        "colab": {
          "base_uri": "https://localhost:8080/",
          "height": 85
        }
      },
      "source": [
        "np_matrix2[result,:]"
      ],
      "execution_count": 0,
      "outputs": [
        {
          "output_type": "execute_result",
          "data": {
            "text/plain": [
              "array([[[0.00619141, 0.61407572, 0.26495364, 0.60198396, 0.11845611],\n",
              "        [0.79777631, 0.48150305, 0.55776254, 0.17330531, 0.19229313],\n",
              "        [0.86980229, 0.10335321, 0.61072005, 0.23273086, 0.95977998],\n",
              "        [0.76755079, 0.01740944, 0.0010468 , 0.54705087, 0.03576193]]])"
            ]
          },
          "metadata": {
            "tags": []
          },
          "execution_count": 99
        }
      ]
    },
    {
      "cell_type": "markdown",
      "metadata": {
        "id": "mkpYXEOEep9A",
        "colab_type": "text"
      },
      "source": [
        "##Ex.3"
      ]
    },
    {
      "cell_type": "code",
      "metadata": {
        "id": "1k4bcq4-ewUs",
        "colab_type": "code",
        "colab": {
          "base_uri": "https://localhost:8080/",
          "height": 286
        },
        "outputId": "8480c025-69b7-4156-c343-9858c596b823"
      },
      "source": [
        "import numpy as np\n",
        "import matplotlib.pyplot as plt\n",
        "x = np.linspace(0,12.5,100)\n",
        "y = np.cos(x)\n",
        "plt.plot(x,y)"
      ],
      "execution_count": 22,
      "outputs": [
        {
          "output_type": "execute_result",
          "data": {
            "text/plain": [
              "[<matplotlib.lines.Line2D at 0x7f50d1274b38>]"
            ]
          },
          "metadata": {
            "tags": []
          },
          "execution_count": 22
        },
        {
          "output_type": "display_data",
          "data": {
            "image/png": "[encoded data removed]",
            "text/plain": [
              "<Figure size 432x288 with 1 Axes>"
            ]
          },
          "metadata": {
            "tags": []
          }
        }
      ]
    },
    {
      "cell_type": "markdown",
      "metadata": {
        "id": "9vXTzbT2hFDe",
        "colab_type": "text"
      },
      "source": [
        "##Ex.4"
      ]
    },
    {
      "cell_type": "code",
      "metadata": {
        "id": "exak7Y2bhEWX",
        "colab_type": "code",
        "colab": {
          "base_uri": "https://localhost:8080/",
          "height": 102
        },
        "outputId": "8643ebe0-73cc-47fa-a9a2-ff63bb37dfec"
      },
      "source": [
        "np_test = np.arange(25).reshape(5,5)\n",
        "np_test"
      ],
      "execution_count": 83,
      "outputs": [
        {
          "output_type": "execute_result",
          "data": {
            "text/plain": [
              "array([[ 0,  1,  2,  3,  4],\n",
              "       [ 5,  6,  7,  8,  9],\n",
              "       [10, 11, 12, 13, 14],\n",
              "       [15, 16, 17, 18, 19],\n",
              "       [20, 21, 22, 23, 24]])"
            ]
          },
          "metadata": {
            "tags": []
          },
          "execution_count": 83
        }
      ]
    },
    {
      "cell_type": "code",
      "metadata": {
        "id": "Atn3z6V4lDLc",
        "colab_type": "code",
        "colab": {
          "base_uri": "https://localhost:8080/",
          "height": 34
        },
        "outputId": "65a808e1-a374-4ce2-fc09-bf8d922e4d20"
      },
      "source": [
        "print(np_test[np.mod(np_test, 3)==0].reshape(-1))"
      ],
      "execution_count": 85,
      "outputs": [
        {
          "output_type": "stream",
          "text": [
            "[ 0  3  6  9 12 15 18 21 24]\n"
          ],
          "name": "stdout"
        }
      ]
    },
    {
      "cell_type": "markdown",
      "metadata": {
        "id": "H4xUReiUtd31",
        "colab_type": "text"
      },
      "source": [
        "##Ex.5"
      ]
    },
    {
      "cell_type": "code",
      "metadata": {
        "id": "VY3OOOwZtfGa",
        "colab_type": "code",
        "colab": {
          "base_uri": "https://localhost:8080/",
          "height": 102
        },
        "outputId": "b0867c9f-bf71-42e8-8050-1f90d705079e"
      },
      "source": [
        "np_test = np.arange(25).reshape(5,5)\n",
        "np_test"
      ],
      "execution_count": 102,
      "outputs": [
        {
          "output_type": "execute_result",
          "data": {
            "text/plain": [
              "array([[ 0,  1,  2,  3,  4],\n",
              "       [ 5,  6,  7,  8,  9],\n",
              "       [10, 11, 12, 13, 14],\n",
              "       [15, 16, 17, 18, 19],\n",
              "       [20, 21, 22, 23, 24]])"
            ]
          },
          "metadata": {
            "tags": []
          },
          "execution_count": 102
        }
      ]
    },
    {
      "cell_type": "code",
      "metadata": {
        "id": "BIu2-slSvBP6",
        "colab_type": "code",
        "colab": {
          "base_uri": "https://localhost:8080/",
          "height": 102
        },
        "outputId": "1c875f86-4a91-4767-f89e-befb5c1a6ad4"
      },
      "source": [
        "np_test = np.arange(25).reshape(5,5)\n",
        "np.fill_diagonal(np_test, 0)\n",
        "np_test"
      ],
      "execution_count": 106,
      "outputs": [
        {
          "output_type": "execute_result",
          "data": {
            "text/plain": [
              "array([[ 0,  1,  2,  3,  4],\n",
              "       [ 5,  0,  7,  8,  9],\n",
              "       [10, 11,  0, 13, 14],\n",
              "       [15, 16, 17,  0, 19],\n",
              "       [20, 21, 22, 23,  0]])"
            ]
          },
          "metadata": {
            "tags": []
          },
          "execution_count": 106
        }
      ]
    },
    {
      "cell_type": "markdown",
      "metadata": {
        "id": "v3KBIBsQyb_r",
        "colab_type": "text"
      },
      "source": [
        "##Titanic"
      ]
    },
    {
      "cell_type": "code",
      "metadata": {
        "id": "BMw--dwpydJ5",
        "colab_type": "code",
        "colab": {}
      },
      "source": [
        "import numpy as np\n",
        "titanic = np.genfromtxt(\"https://raw.githubusercontent.com/chanchanchann/DW/master/titanic.csv\",delimiter = \";\" , dtype = str,missing_values = None)\n"
      ],
      "execution_count": 0,
      "outputs": []
    },
    {
      "cell_type": "code",
      "metadata": {
        "id": "4tuH4iXS5L5E",
        "colab_type": "code",
        "colab": {
          "base_uri": "https://localhost:8080/",
          "height": 34
        },
        "outputId": "9657b7d6-be83-46bc-850c-e57e8e6182a2"
      },
      "source": [
        "titanic = np.delete(titanic,[1,3,6,7,8,9,10],1)\n",
        "titanic[0,:]"
      ],
      "execution_count": 241,
      "outputs": [
        {
          "output_type": "execute_result",
          "data": {
            "text/plain": [
              "array(['0', '0', '0', '0', '1'], dtype='<U82')"
            ]
          },
          "metadata": {
            "tags": []
          },
          "execution_count": 241
        }
      ]
    },
    {
      "cell_type": "markdown",
      "metadata": {
        "id": "pEfk8muT7hMo",
        "colab_type": "text"
      },
      "source": [
        "##Ex.6"
      ]
    },
    {
      "cell_type": "code",
      "metadata": {
        "id": "UaOobOu5IREO",
        "colab_type": "code",
        "colab": {
          "base_uri": "https://localhost:8080/",
          "height": 34
        },
        "outputId": "745059b6-a189-45f7-fd55-b4424c78f3bb"
      },
      "source": [
        "passenger_class = np.unique(titanic[:,0])\n",
        "passenger_class\n",
        "passenger_class_value = [sum(titanic[:,0] == passenger_class[0]),\n",
        "                         sum(titanic[:,0] == passenger_class[1]),\n",
        "                         sum(titanic[:,0] == passenger_class[2])\n",
        "                        ]\n",
        "passenger_class_value"
      ],
      "execution_count": 232,
      "outputs": [
        {
          "output_type": "execute_result",
          "data": {
            "text/plain": [
              "[323, 277, 709]"
            ]
          },
          "metadata": {
            "tags": []
          },
          "execution_count": 232
        }
      ]
    },
    {
      "cell_type": "code",
      "metadata": {
        "id": "_boNBK3i7iqW",
        "colab_type": "code",
        "colab": {
          "base_uri": "https://localhost:8080/",
          "height": 51
        },
        "outputId": "02e3e38e-2aa4-4c3f-cfac-6f71f1e37f00"
      },
      "source": [
        "import matplotlib.pyplot as plt\n",
        "rows1 = np.where(titanic == 'Female')\n",
        "print(str(len(np.unique(rows1))))\n",
        "rows2 = np.where(titanic == 'Male')\n",
        "print(str(len(np.unique(rows2))))"
      ],
      "execution_count": 228,
      "outputs": [
        {
          "output_type": "stream",
          "text": [
            "466\n",
            "844\n"
          ],
          "name": "stdout"
        }
      ]
    },
    {
      "cell_type": "code",
      "metadata": {
        "id": "cszIfL-V-Uad",
        "colab_type": "code",
        "colab": {}
      },
      "source": [
        "import matplotlib.pyplot as plt\n",
        "Sex = np.unique(titanic[:,2])\n",
        "Sex_value = [sum(titanic[:,2]==Sex[0]),sum(titanic[:,2]==Sex[1])]\n",
        "SV = np.unique(titanic[:,11])\n",
        "SV_value = [sum(titanic[:,11]==SV[0]),sum(titanic[:,11]==SV[1])]\n"
      ],
      "execution_count": 0,
      "outputs": []
    },
    {
      "cell_type": "code",
      "metadata": {
        "id": "2F64vNGjB6xy",
        "colab_type": "code",
        "colab": {
          "base_uri": "https://localhost:8080/",
          "height": 214
        },
        "outputId": "5926b9a5-875f-4a0f-b310-796f150635be"
      },
      "source": [
        "fig ,axes = plt.subplots(1,2,figsize=(8,3))\n",
        "axes[0].bar(Sex,Sex_value)\n",
        "axes[1].bar(SV,SV_value)\n",
        "plt.show()"
      ],
      "execution_count": 226,
      "outputs": [
        {
          "output_type": "display_data",
          "data": {
            "image/png": "[encoded data removed]",
            "text/plain": [
              "<Figure size 576x216 with 2 Axes>"
            ]
          },
          "metadata": {
            "tags": []
          }
        }
      ]
    },
    {
      "cell_type": "markdown",
      "metadata": {
        "id": "FZM72hjMHWAe",
        "colab_type": "text"
      },
      "source": [
        "##Ex.7"
      ]
    },
    {
      "cell_type": "code",
      "metadata": {
        "id": "h937sSu8HYLh",
        "colab_type": "code",
        "colab": {
          "base_uri": "https://localhost:8080/",
          "height": 136
        },
        "outputId": "27f774f0-b53f-498c-a52a-21b2b181b1fb"
      },
      "source": [
        "titanic[titanic == passenger_class[0]] = 0\n",
        "titanic[titanic == passenger_class[1]] = 1\n",
        "titanic[titanic == passenger_class[2]] = 2\n",
        "titanic[titanic == Sex[0]] = 0\n",
        "titanic[titanic == Sex[1]] = 1\n",
        "titanic[titanic == SV[0]] = 0\n",
        "titanic[titanic == SV[1]] = 1\n",
        "titanic"
      ],
      "execution_count": 243,
      "outputs": [
        {
          "output_type": "execute_result",
          "data": {
            "text/plain": [
              "array([['0', '0', '0', '0', '1'],\n",
              "       ['0', '1', '1', '2', '1'],\n",
              "       ['0', '0', '1', '2', '0'],\n",
              "       ...,\n",
              "       ['2', '1', '0', '0', '0'],\n",
              "       ['2', '1', '0', '0', '0'],\n",
              "       ['2', '1', '0', '0', '0']], dtype='<U82')"
            ]
          },
          "metadata": {
            "tags": []
          },
          "execution_count": 243
        }
      ]
    },
    {
      "cell_type": "code",
      "metadata": {
        "id": "xuEGeZMwKEpB",
        "colab_type": "code",
        "colab": {
          "base_uri": "https://localhost:8080/",
          "height": 34
        },
        "outputId": "de95f9cc-d008-4625-cc3b-dc315a329bf5"
      },
      "source": [
        "titanic = titanic.astype('float')\n",
        "titanic.dtype"
      ],
      "execution_count": 248,
      "outputs": [
        {
          "output_type": "execute_result",
          "data": {
            "text/plain": [
              "dtype('float64')"
            ]
          },
          "metadata": {
            "tags": []
          },
          "execution_count": 248
        }
      ]
    },
    {
      "cell_type": "code",
      "metadata": {
        "id": "US9PG8SuLLWi",
        "colab_type": "code",
        "colab": {
          "base_uri": "https://localhost:8080/",
          "height": 34
        },
        "outputId": "ac062982-1937-4e4a-b6c5-be35f268e8ea"
      },
      "source": [
        "y = titanic[:,-1]\n",
        "x = np.delete(titanic,-1,1)\n",
        "x.shape"
      ],
      "execution_count": 251,
      "outputs": [
        {
          "output_type": "execute_result",
          "data": {
            "text/plain": [
              "(1309, 4)"
            ]
          },
          "metadata": {
            "tags": []
          },
          "execution_count": 251
        }
      ]
    },
    {
      "cell_type": "code",
      "metadata": {
        "id": "I0HOvFqGMRXF",
        "colab_type": "code",
        "colab": {
          "base_uri": "https://localhost:8080/",
          "height": 34
        },
        "outputId": "631143d7-5191-4169-d515-c1427162155d"
      },
      "source": [
        "np.min(x,0)"
      ],
      "execution_count": 288,
      "outputs": [
        {
          "output_type": "execute_result",
          "data": {
            "text/plain": [
              "array([0., 0., 0., 0.])"
            ]
          },
          "metadata": {
            "tags": []
          },
          "execution_count": 288
        }
      ]
    },
    {
      "cell_type": "code",
      "metadata": {
        "id": "AhrqbrcKLVLa",
        "colab_type": "code",
        "colab": {
          "base_uri": "https://localhost:8080/",
          "height": 136
        },
        "outputId": "b90f2982-a4cd-4a60-ab98-fd0d79a4a0ad"
      },
      "source": [
        "x"
      ],
      "execution_count": 291,
      "outputs": [
        {
          "output_type": "execute_result",
          "data": {
            "text/plain": [
              "array([[0., 0., 0., 0.],\n",
              "       [0., 1., 1., 2.],\n",
              "       [0., 0., 1., 2.],\n",
              "       ...,\n",
              "       [2., 1., 0., 0.],\n",
              "       [2., 1., 0., 0.],\n",
              "       [2., 1., 0., 0.]])"
            ]
          },
          "metadata": {
            "tags": []
          },
          "execution_count": 291
        }
      ]
    },
    {
      "cell_type": "code",
      "metadata": {
        "id": "RMW9nvQwNHMl",
        "colab_type": "code",
        "colab": {
          "base_uri": "https://localhost:8080/",
          "height": 34
        },
        "outputId": "970bc960-c119-4787-d045-f794ef8bd9bd"
      },
      "source": [
        "max = np.max(titanic,0)\n",
        "max"
      ],
      "execution_count": 278,
      "outputs": [
        {
          "output_type": "execute_result",
          "data": {
            "text/plain": [
              "array([2., 1., 8., 9., 1.])"
            ]
          },
          "metadata": {
            "tags": []
          },
          "execution_count": 278
        }
      ]
    },
    {
      "cell_type": "code",
      "metadata": {
        "id": "P_Cks93iLaha",
        "colab_type": "code",
        "colab": {
          "base_uri": "https://localhost:8080/",
          "height": 136
        },
        "outputId": "7099580c-d026-4f45-dcc8-8aa7cc1ac81b"
      },
      "source": [
        "x_norm = (x-np.min(x,0)) / (np.max(x,0)-np.min(x,0))\n",
        "x_norm"
      ],
      "execution_count": 290,
      "outputs": [
        {
          "output_type": "execute_result",
          "data": {
            "text/plain": [
              "array([[0.        , 0.        , 0.        , 0.        ],\n",
              "       [0.        , 1.        , 0.125     , 0.22222222],\n",
              "       [0.        , 0.        , 0.125     , 0.22222222],\n",
              "       ...,\n",
              "       [1.        , 1.        , 0.        , 0.        ],\n",
              "       [1.        , 1.        , 0.        , 0.        ],\n",
              "       [1.        , 1.        , 0.        , 0.        ]])"
            ]
          },
          "metadata": {
            "tags": []
          },
          "execution_count": 290
        }
      ]
    }
  ]
}